{
 "cells": [
  {
   "cell_type": "code",
   "execution_count": 1,
   "id": "33a3b9b8",
   "metadata": {},
   "outputs": [
    {
     "data": {
      "text/plain": [
       "(array([[0, 0, 0, 0, 0, 0],\n",
       "        [1, 1, 1, 1, 1, 1],\n",
       "        [2, 2, 2, 2, 2, 2],\n",
       "        [3, 3, 3, 3, 3, 3],\n",
       "        [4, 4, 4, 4, 4, 4]]),\n",
       " array([[2, 3, 4, 5, 6, 7],\n",
       "        [2, 3, 4, 5, 6, 7],\n",
       "        [2, 3, 4, 5, 6, 7],\n",
       "        [2, 3, 4, 5, 6, 7],\n",
       "        [2, 3, 4, 5, 6, 7]]))"
      ]
     },
     "execution_count": 1,
     "metadata": {},
     "output_type": "execute_result"
    }
   ],
   "source": [
    "import numpy as np\n",
    "from scipy.spatial import KDTree\n",
    "\n",
    "x, y = np.mgrid[0:5, 2:8]\n",
    "x, y"
   ]
  },
  {
   "cell_type": "code",
   "execution_count": 5,
   "id": "031442e1",
   "metadata": {},
   "outputs": [
    {
     "data": {
      "text/plain": [
       "array([0, 0, 0, 0, 0, 0, 1, 1, 1, 1, 1, 1, 2, 2, 2, 2, 2, 2, 3, 3, 3, 3,\n",
       "       3, 3, 4, 4, 4, 4, 4, 4])"
      ]
     },
     "execution_count": 5,
     "metadata": {},
     "output_type": "execute_result"
    }
   ],
   "source": [
    "x.ravel()"
   ]
  },
  {
   "cell_type": "code",
   "execution_count": 3,
   "id": "3fb8b7b6",
   "metadata": {},
   "outputs": [
    {
     "data": {
      "text/plain": [
       "(30,\n",
       " array([[0, 2],\n",
       "        [0, 3],\n",
       "        [0, 4],\n",
       "        [0, 5],\n",
       "        [0, 6],\n",
       "        [0, 7],\n",
       "        [1, 2],\n",
       "        [1, 3],\n",
       "        [1, 4],\n",
       "        [1, 5],\n",
       "        [1, 6],\n",
       "        [1, 7],\n",
       "        [2, 2],\n",
       "        [2, 3],\n",
       "        [2, 4],\n",
       "        [2, 5],\n",
       "        [2, 6],\n",
       "        [2, 7],\n",
       "        [3, 2],\n",
       "        [3, 3],\n",
       "        [3, 4],\n",
       "        [3, 5],\n",
       "        [3, 6],\n",
       "        [3, 7],\n",
       "        [4, 2],\n",
       "        [4, 3],\n",
       "        [4, 4],\n",
       "        [4, 5],\n",
       "        [4, 6],\n",
       "        [4, 7]]))"
      ]
     },
     "execution_count": 3,
     "metadata": {},
     "output_type": "execute_result"
    }
   ],
   "source": [
    "len(np.c_[x.ravel(), y.ravel()]), np.c_[x.ravel(), y.ravel()]"
   ]
  },
  {
   "cell_type": "code",
   "execution_count": 7,
   "id": "0785f736",
   "metadata": {},
   "outputs": [
    {
     "data": {
      "text/plain": [
       "<scipy.spatial.kdtree.KDTree at 0x1cbd5a5d8c0>"
      ]
     },
     "execution_count": 7,
     "metadata": {},
     "output_type": "execute_result"
    }
   ],
   "source": [
    "tree = KDTree(np.c_[x.ravel(), y.ravel()])\n",
    "tree"
   ]
  },
  {
   "cell_type": "markdown",
   "id": "f8ebd7f6",
   "metadata": {},
   "source": [
    "To query the nearest neighbours and return squeezed result, use"
   ]
  },
  {
   "cell_type": "code",
   "execution_count": 8,
   "id": "09f8424e",
   "metadata": {},
   "outputs": [
    {
     "name": "stdout",
     "output_type": "stream",
     "text": [
      "[2.        0.2236068]\n",
      "[ 0 13]\n"
     ]
    }
   ],
   "source": [
    "dd, ii = tree.query([[0, 0], [2.2, 2.9]], k=1)\n",
    "print(dd, ii, sep='\\n')"
   ]
  },
  {
   "cell_type": "code",
   "execution_count": 9,
   "id": "3aaff75b",
   "metadata": {},
   "outputs": [
    {
     "name": "stdout",
     "output_type": "stream",
     "text": [
      "[2.]\n",
      "[0]\n"
     ]
    }
   ],
   "source": [
    "dd, ii = tree.query([[0, 0]], k=1)\n",
    "print(dd, ii, sep='\\n')"
   ]
  },
  {
   "cell_type": "code",
   "execution_count": 10,
   "id": "626db1c9",
   "metadata": {},
   "outputs": [
    {
     "name": "stdout",
     "output_type": "stream",
     "text": [
      "[2. 1. 0.]\n",
      "[ 0  6 12]\n"
     ]
    }
   ],
   "source": [
    "dd, ii = tree.query([[0, 0], [1,1], [2,2]], k=1)\n",
    "print(dd, ii, sep='\\n')"
   ]
  },
  {
   "cell_type": "code",
   "execution_count": 11,
   "id": "a2591a80",
   "metadata": {},
   "outputs": [
    {
     "name": "stdout",
     "output_type": "stream",
     "text": [
      "[inf inf  0.]\n",
      "[30 30 12]\n"
     ]
    }
   ],
   "source": [
    "dd, ii = tree.query(\n",
    "    [[0, 0], [1,1], [2,2]], \n",
    "    k=1, \n",
    "    distance_upper_bound=.1,\n",
    "    workers=-1\n",
    ")\n",
    "print(dd, ii, sep='\\n')"
   ]
  },
  {
   "cell_type": "code",
   "execution_count": 13,
   "id": "c2b3031e",
   "metadata": {},
   "outputs": [
    {
     "data": {
      "text/plain": [
       "True"
      ]
     },
     "execution_count": 13,
     "metadata": {},
     "output_type": "execute_result"
    }
   ],
   "source": [
    "import numpy as np\n",
    "np.inf is np.inf"
   ]
  },
  {
   "cell_type": "code",
   "execution_count": 16,
   "id": "153fbe27",
   "metadata": {},
   "outputs": [
    {
     "name": "stdout",
     "output_type": "stream",
     "text": [
      "[[       inf]\n",
      " [2.23606798]\n",
      " [1.41421356]]\n",
      "[[30]\n",
      " [ 1]\n",
      " [19]]\n"
     ]
    }
   ],
   "source": [
    "dd, ii = tree.query(\n",
    "    [[0, 0], [1,1], [2,2]], \n",
    "    k=[5], # -- 5th nearest neighbor\n",
    "    distance_upper_bound=3,\n",
    "    workers=-1\n",
    ")\n",
    "print(dd, ii, sep='\\n')"
   ]
  },
  {
   "cell_type": "code",
   "execution_count": 22,
   "id": "e9bb3f61",
   "metadata": {},
   "outputs": [
    {
     "data": {
      "text/plain": [
       "array([       inf, 2.23606798, 1.41421356])"
      ]
     },
     "execution_count": 22,
     "metadata": {},
     "output_type": "execute_result"
    }
   ],
   "source": [
    "dd.flatten()"
   ]
  },
  {
   "cell_type": "code",
   "execution_count": 24,
   "id": "995f576f",
   "metadata": {},
   "outputs": [
    {
     "data": {
      "text/plain": [
       "array([0, 0, 0, 0, 0, 0, 1, 1, 1, 1, 1, 1, 2, 2, 2, 2, 2, 2, 3, 3, 3, 3,\n",
       "       3, 3, 4, 4, 4, 4, 4, 4])"
      ]
     },
     "execution_count": 24,
     "metadata": {},
     "output_type": "execute_result"
    }
   ],
   "source": [
    "np.array([[0, 0, 0, 0, 0, 0],\n",
    "        [1, 1, 1, 1, 1, 1],\n",
    "        [2, 2, 2, 2, 2, 2],\n",
    "        [3, 3, 3, 3, 3, 3],\n",
    "        [4, 4, 4, 4, 4, 4]]).flatten()"
   ]
  },
  {
   "cell_type": "code",
   "execution_count": null,
   "id": "c217af5c",
   "metadata": {},
   "outputs": [],
   "source": []
  },
  {
   "cell_type": "code",
   "execution_count": null,
   "id": "9c42fb13",
   "metadata": {},
   "outputs": [],
   "source": []
  },
  {
   "cell_type": "code",
   "execution_count": null,
   "id": "f414890e",
   "metadata": {},
   "outputs": [],
   "source": []
  },
  {
   "cell_type": "code",
   "execution_count": null,
   "id": "19d9f3eb",
   "metadata": {},
   "outputs": [],
   "source": []
  }
 ],
 "metadata": {
  "kernelspec": {
   "display_name": "Python 3 (ipykernel)",
   "language": "python",
   "name": "python3"
  },
  "language_info": {
   "codemirror_mode": {
    "name": "ipython",
    "version": 3
   },
   "file_extension": ".py",
   "mimetype": "text/x-python",
   "name": "python",
   "nbconvert_exporter": "python",
   "pygments_lexer": "ipython3",
   "version": "3.9.7"
  }
 },
 "nbformat": 4,
 "nbformat_minor": 5
}
