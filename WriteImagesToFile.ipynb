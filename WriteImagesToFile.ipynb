{
 "cells": [
  {
   "cell_type": "code",
   "execution_count": 1,
   "id": "114f61d3",
   "metadata": {},
   "outputs": [
    {
     "name": "stdout",
     "output_type": "stream",
     "text": [
      "total_frames =  352\n"
     ]
    }
   ],
   "source": [
    "import cv2\n",
    "\n",
    "input_path = 'data/2.mp4'\n",
    "frame_prefix = 'b'\n",
    "\n",
    "image_train_folder = 'data/img/train/'\n",
    "image_test_folder = 'data/img/test/'\n",
    "\n",
    "video_stream = cv2.VideoCapture(input_path)\n",
    "total_frames = int(video_stream.get(cv2.CAP_PROP_FRAME_COUNT))\n",
    "print('total_frames = ', total_frames)"
   ]
  },
  {
   "cell_type": "code",
   "execution_count": 2,
   "id": "9738ab7c",
   "metadata": {},
   "outputs": [],
   "source": [
    "frameCnt = 0\n",
    "ret = True\n",
    "while ret:#(frameCnt < total_frames-1):\n",
    "    l = len(str(frameCnt))\n",
    "    file_name_to_save = frame_prefix+'0'*(5-l)+str(frameCnt)+'.png'\n",
    "    \n",
    "    ret, frame = video_stream.read()\n",
    "    if ret:\n",
    "        if frameCnt % 5 == 0:\n",
    "            cv2.imwrite(\n",
    "                image_train_folder+file_name_to_save,\n",
    "                frame\n",
    "            )\n",
    "        elif frameCnt % 13 == 0:\n",
    "            cv2.imwrite(\n",
    "                image_test_folder+file_name_to_save,\n",
    "                frame\n",
    "            )\n",
    "    \n",
    "    frameCnt += 1\n",
    "# Release video object\n",
    "video_stream.release()"
   ]
  },
  {
   "cell_type": "code",
   "execution_count": null,
   "id": "c602be29",
   "metadata": {},
   "outputs": [],
   "source": []
  }
 ],
 "metadata": {
  "kernelspec": {
   "display_name": "Python 3 (ipykernel)",
   "language": "python",
   "name": "python3"
  },
  "language_info": {
   "codemirror_mode": {
    "name": "ipython",
    "version": 3
   },
   "file_extension": ".py",
   "mimetype": "text/x-python",
   "name": "python",
   "nbconvert_exporter": "python",
   "pygments_lexer": "ipython3",
   "version": "3.9.7"
  }
 },
 "nbformat": 4,
 "nbformat_minor": 5
}
