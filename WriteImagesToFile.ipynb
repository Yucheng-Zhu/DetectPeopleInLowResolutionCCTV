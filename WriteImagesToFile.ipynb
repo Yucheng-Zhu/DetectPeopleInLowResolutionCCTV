{
 "cells": [
  {
   "cell_type": "code",
   "execution_count": 3,
   "id": "79e1bd8f",
   "metadata": {},
   "outputs": [],
   "source": [
    "import cv2\n",
    "\n",
    "input_path = 'data/1.mp4'\n",
    "image_train_folder = 'data/img/train/'\n",
    "image_test_folder = 'data/img/test/'\n",
    "\n",
    "video_stream = cv2.VideoCapture(input_path)\n",
    "\n",
    "frameCnt = 0\n",
    "ret = True\n",
    "train_i = 0\n",
    "test_i = 0\n",
    "while ret:#(frameCnt < total_frames-1):\n",
    "    ret, frame = video_stream.read()\n",
    "    if ret:\n",
    "        if frameCnt % 60 == 0:\n",
    "            cv2.imwrite(\n",
    "                image_train_folder+str(train_i)+'.png',\n",
    "                frame\n",
    "            )\n",
    "            train_i += 1\n",
    "        elif frameCnt % 30 == 0:\n",
    "            cv2.imwrite(\n",
    "                image_test_folder+str(test_i)+'.png',\n",
    "                frame\n",
    "            )\n",
    "            test_i += 1\n",
    "    \n",
    "    frameCnt += 1\n",
    "# Release video object\n",
    "video_stream.release()"
   ]
  },
  {
   "cell_type": "code",
   "execution_count": null,
   "id": "31db00ae",
   "metadata": {},
   "outputs": [],
   "source": []
  }
 ],
 "metadata": {
  "kernelspec": {
   "display_name": "Python 3 (ipykernel)",
   "language": "python",
   "name": "python3"
  },
  "language_info": {
   "codemirror_mode": {
    "name": "ipython",
    "version": 3
   },
   "file_extension": ".py",
   "mimetype": "text/x-python",
   "name": "python",
   "nbconvert_exporter": "python",
   "pygments_lexer": "ipython3",
   "version": "3.9.7"
  }
 },
 "nbformat": 4,
 "nbformat_minor": 5
}
